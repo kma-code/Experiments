{
 "cells": [
  {
   "cell_type": "code",
   "execution_count": 1,
   "metadata": {},
   "outputs": [],
   "source": [
    "import torch\n",
    "import torchvision\n",
    "import torchvision.transforms as transforms"
   ]
  },
  {
   "cell_type": "code",
   "execution_count": 2,
   "metadata": {},
   "outputs": [],
   "source": [
    "# Weird behaviour when using two dataloaders:\n",
    "# We create two dataloaders, one with some batch_size and the other one with batch size = length of train set, such that no RNG is needed\n",
    "# However, it turns out that even in this case an RNG state is occupied, so we should not expect the same randomness\n",
    "\n",
    "batch_size = 20\n",
    "\n",
    "torch.manual_seed(123456)\n",
    "\n",
    "transform = transforms.Compose([transforms.ToTensor()])"
   ]
  },
  {
   "cell_type": "code",
   "execution_count": 3,
   "metadata": {},
   "outputs": [],
   "source": [
    "#image datasets\n",
    "trainset = torchvision.datasets.MNIST('dataset/',\n",
    "                                              train=True,\n",
    "                                              download=True,\n",
    "                                              transform=transform)\n",
    "# first dataloader\n",
    "trainloader = torch.utils.data.DataLoader(trainset, batch_size=batch_size,\n",
    "                                              shuffle=True, num_workers=2)"
   ]
  },
  {
   "cell_type": "code",
   "execution_count": 4,
   "metadata": {},
   "outputs": [
    {
     "name": "stdout",
     "output_type": "stream",
     "text": [
      "tensor([8, 7, 6, 5, 8, 1, 7, 4, 9, 1, 5, 4, 2, 0, 0, 4, 0, 0, 9, 5])\n"
     ]
    }
   ],
   "source": [
    "# just to be sure, reset seed\n",
    "# show first batch\n",
    "\n",
    "torch.manual_seed(123456)\n",
    "\n",
    "inputs, classes = next(iter(trainloader))\n",
    "print(classes)"
   ]
  },
  {
   "cell_type": "code",
   "execution_count": 9,
   "metadata": {},
   "outputs": [],
   "source": [
    "# reset seed and define second dataloader\n",
    "torch.manual_seed(123456)\n",
    "\n",
    "# second dataloader without shuffling (still uses RNG state)\n",
    "data_samp = torch.utils.data.DataLoader(\n",
    "                trainset,\n",
    "                batch_size=len(trainset))"
   ]
  },
  {
   "cell_type": "code",
   "execution_count": 10,
   "metadata": {},
   "outputs": [
    {
     "name": "stdout",
     "output_type": "stream",
     "text": [
      "tensor([8, 7, 6, 5, 8, 1, 7, 4, 9, 1, 5, 4, 2, 0, 0, 4, 0, 0, 9, 5])\n"
     ]
    }
   ],
   "source": [
    "# creating a second dataloader doesn't change the rng state\n",
    "\n",
    "inputs, classes = next(iter(trainloader))\n",
    "print(classes)"
   ]
  },
  {
   "cell_type": "code",
   "execution_count": 11,
   "metadata": {},
   "outputs": [
    {
     "name": "stdout",
     "output_type": "stream",
     "text": [
      "tensor([6, 7, 0, 1, 8, 9, 9, 7, 0, 2, 1, 8, 3, 6, 6, 8, 6, 7, 0, 3])\n"
     ]
    }
   ],
   "source": [
    "# but referencing it does\n",
    "\n",
    "torch.manual_seed(123456)\n",
    "\n",
    "random_name = list(data_samp)\n",
    "\n",
    "inputs, classes = next(iter(trainloader))\n",
    "print(classes)"
   ]
  },
  {
   "cell_type": "code",
   "execution_count": null,
   "metadata": {},
   "outputs": [],
   "source": []
  }
 ],
 "metadata": {
  "kernelspec": {
   "display_name": "Python 3",
   "language": "python",
   "name": "python3"
  },
  "language_info": {
   "codemirror_mode": {
    "name": "ipython",
    "version": 3
   },
   "file_extension": ".py",
   "mimetype": "text/x-python",
   "name": "python",
   "nbconvert_exporter": "python",
   "pygments_lexer": "ipython3",
   "version": "3.8.5"
  }
 },
 "nbformat": 4,
 "nbformat_minor": 4
}
